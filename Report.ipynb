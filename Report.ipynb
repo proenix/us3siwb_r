{
 "cells": [
  {
   "cell_type": "markdown",
   "metadata": {},
   "source": [
    "# Analiza danych dotyczących pandemi covid-19\n",
    "\n",
    "W poniższym raporcie przestawiono proces opracowania i wykonania analizy opartej o dostępne dane dotycznące pandemi wirusa covid-19."
   ]
  },
  {
   "cell_type": "markdown",
   "metadata": {},
   "source": [
    "## Zależności \n",
    "\n",
    "Poniżej zaimportowano wymagane biblioteki języka Python wymagane do uruchomienia analizy."
   ]
  },
  {
   "cell_type": "code",
   "execution_count": 402,
   "metadata": {},
   "outputs": [],
   "source": [
    "import pandas as pd\n",
    "import numpy as np\n",
    "import requests\n",
    "import datetime\n",
    "import matplotlib.pyplot as plt\n",
    "import squarify\n",
    "import ipywidgets as widgets\n",
    "from ipywidgets import interact, interact_manual\n",
    "import cufflinks as cf\n",
    "import palettable\n",
    "import plotly.express as px\n",
    "import plotly.graph_objects as go\n",
    "import pycountry\n",
    "import gettext"
   ]
  },
  {
   "cell_type": "markdown",
   "metadata": {},
   "source": [
    "Następnie wczytano moduły, które będą konieczne do wykonania tłumaczeń oraz poprawnego wyświetlania wykresów."
   ]
  },
  {
   "cell_type": "code",
   "execution_count": 403,
   "metadata": {},
   "outputs": [
    {
     "data": {
      "text/html": [
       "        <script type=\"text/javascript\">\n",
       "        window.PlotlyConfig = {MathJaxConfig: 'local'};\n",
       "        if (window.MathJax) {MathJax.Hub.Config({SVG: {font: \"STIX-Web\"}});}\n",
       "        if (typeof require !== 'undefined') {\n",
       "        require.undef(\"plotly\");\n",
       "        requirejs.config({\n",
       "            paths: {\n",
       "                'plotly': ['https://cdn.plot.ly/plotly-latest.min']\n",
       "            }\n",
       "        });\n",
       "        require(['plotly'], function(Plotly) {\n",
       "            window._Plotly = Plotly;\n",
       "        });\n",
       "        }\n",
       "        </script>\n",
       "        "
      ]
     },
     "metadata": {},
     "output_type": "display_data"
    }
   ],
   "source": [
    "## Tłumaczenia\n",
    "poland = gettext.translation('iso3166', pycountry.LOCALES_DIR, languages=['pl'])\n",
    "poland.install()\n",
    "\n",
    "# Wykresy\n",
    "cf.go_offline()\n",
    "cf.set_config_file(offline=False, world_readable=True)"
   ]
  },
  {
   "cell_type": "markdown",
   "metadata": {},
   "source": [
    "## Dane źródłowe\n",
    "\n",
    "Jako dane źródłowe w poniższej analizie posłużą dane zebrane przez zespół badawczy CSSE (Center for Systems Science and Engineering) z Uniwersystetu Johna Hopkinsa. Dane udostępnione są na licencji Creative Commons Attribution 4.0 International (CC BY 4.0) i są zagregowanymi danymi pochodzącymi z różnych źródeł (więcej informacji o pochodzeniu danych dostępne na stronie [repozytorium](https://github.com/CSSEGISandData/COVID-19) i są aktualizowane raz dziennie.\n",
    "\n",
    "Dane zostały pobrane w najnowszej dostępnej wersji. Na dzień analizy najnowszy uwzględniony dzień to 7 stycznia 2021.\n",
    "\n",
    "Dla ułatwienia procesu pobierania danych (kilka arkuszy) przygotowano prostą funkcję, która pozwala na pobranie i zapisanie pliku z danymi."
   ]
  },
  {
   "cell_type": "code",
   "execution_count": 404,
   "metadata": {},
   "outputs": [],
   "source": [
    "def downloadData(url):\n",
    "    r = requests.get(url, allow_redirects=True)\n",
    "    filename = url.rsplit('/', 1)[1]\n",
    "    open(filename, 'wb').write(r.content)"
   ]
  },
  {
   "cell_type": "markdown",
   "metadata": {},
   "source": [
    "Następnie wywołano funkcję dla wymaganych arkuszy z danymi."
   ]
  },
  {
   "cell_type": "code",
   "execution_count": 405,
   "metadata": {},
   "outputs": [],
   "source": [
    "downloadData('https://raw.githubusercontent.com/CSSEGISandData/COVID-19/master/csse_covid_19_data/csse_covid_19_time_series/time_series_covid19_confirmed_global.csv')    \n",
    "downloadData('https://raw.githubusercontent.com/CSSEGISandData/COVID-19/master/csse_covid_19_data/csse_covid_19_time_series/time_series_covid19_deaths_global.csv')\n",
    "downloadData('https://raw.githubusercontent.com/CSSEGISandData/COVID-19/master/csse_covid_19_data/csse_covid_19_time_series/time_series_covid19_recovered_global.csv')\n",
    "downloadData('https://raw.githubusercontent.com/CSSEGISandData/COVID-19/master/csse_covid_19_data/UID_ISO_FIPS_LookUp_Table.csv')"
   ]
  },
  {
   "cell_type": "markdown",
   "metadata": {},
   "source": [
    "I wczytano arkusze do stosownych zmiennych."
   ]
  },
  {
   "cell_type": "code",
   "execution_count": 406,
   "metadata": {},
   "outputs": [],
   "source": [
    "df_confirmed = pd.read_csv('time_series_covid19_confirmed_global.csv')\n",
    "df_deaths = pd.read_csv('time_series_covid19_deaths_global.csv')\n",
    "df_recovered = pd.read_csv('time_series_covid19_recovered_global.csv')\n",
    "df_countries = pd.read_csv('UID_ISO_FIPS_LookUp_Table.csv')"
   ]
  },
  {
   "cell_type": "markdown",
   "metadata": {},
   "source": [
    "## Przegląd danych \n",
    "\n",
    "Główne dane na których będzie sie opierała analiza składają się z trzech osobnych tabel zawierających sumy przypadków (potwierdzonych zachorowań, przypadków śmiertelnych, ozdrowień) z podziałem na kraje (dla niektórych krajów również regiony) dla każdego z dnia pandemii. \n",
    "\n",
    "Przypadki zdefiniowane sa jako:\n",
    "- potwierdzone: liczba zawiera przypadki potwierdzone i prawdopodobne (gdzie zgłoszono)\n",
    "- śmiertelne: liczba zawiera przypadki potwierdzone i prawdopodobne (gdzie zgłoszono).\n",
    "- ozdrowienia: liczba szacowana na podstawie danych z lokalnych mediów, i raportów jeśli dostępne - może być zaniżona w stosunku do realnych danych\n",
    "\n",
    "W każdej z tabel występuje szereg kolumn."
   ]
  },
  {
   "cell_type": "code",
   "execution_count": 407,
   "metadata": {},
   "outputs": [
    {
     "data": {
      "text/plain": [
       "Index(['Province/State', 'Country/Region', 'Lat', 'Long', '1/22/20', '1/23/20',\n",
       "       '1/24/20', '1/25/20', '1/26/20', '1/27/20',\n",
       "       ...\n",
       "       '12/30/20', '12/31/20', '1/1/21', '1/2/21', '1/3/21', '1/4/21',\n",
       "       '1/5/21', '1/6/21', '1/7/21', '1/8/21'],\n",
       "      dtype='object', length=357)"
      ]
     },
     "execution_count": 407,
     "metadata": {},
     "output_type": "execute_result"
    }
   ],
   "source": [
    "df_confirmed.columns"
   ]
  },
  {
   "cell_type": "markdown",
   "metadata": {},
   "source": [
    "Pierwsze cztery z kolumn 'Province/State', 'Country/Region', 'Lat', 'Long' zawierają dane dotyczące danej lokalizacji, pozostałe kolumny zawierają liczbę całkowitą zaraportowanych przypadków - nazwa kolumn w strukturze miesiąc / dzień / rok."
   ]
  },
  {
   "cell_type": "code",
   "execution_count": 408,
   "metadata": {},
   "outputs": [
    {
     "data": {
      "text/plain": [
       "Province/State     object\n",
       "Country/Region     object\n",
       "Lat               float64\n",
       "Long              float64\n",
       "1/22/20             int64\n",
       "                   ...   \n",
       "1/4/21              int64\n",
       "1/5/21              int64\n",
       "1/6/21              int64\n",
       "1/7/21              int64\n",
       "1/8/21              int64\n",
       "Length: 357, dtype: object"
      ]
     },
     "execution_count": 408,
     "metadata": {},
     "output_type": "execute_result"
    }
   ],
   "source": [
    "df_confirmed.dtypes"
   ]
  },
  {
   "cell_type": "markdown",
   "metadata": {},
   "source": [
    "Przykładowa zawartość jednej z kolumn z danymi - kolumna dla dnia 5 stycznia 2021 - przypadki potwierdzone."
   ]
  },
  {
   "cell_type": "code",
   "execution_count": 409,
   "metadata": {},
   "outputs": [
    {
     "data": {
      "text/plain": [
       "0      53105\n",
       "1      60283\n",
       "2     100873\n",
       "3       8308\n",
       "4      17756\n",
       "5        160\n",
       "6    1662730\n",
       "7     160544\n",
       "8        118\n",
       "9       4978\n",
       "Name: 1/5/21, dtype: int64"
      ]
     },
     "execution_count": 409,
     "metadata": {},
     "output_type": "execute_result"
    }
   ],
   "source": [
    "df_confirmed['1/5/21'].head(10)"
   ]
  },
  {
   "cell_type": "code",
   "execution_count": 410,
   "metadata": {},
   "outputs": [
    {
     "data": {
      "text/plain": [
       "count    2.720000e+02\n",
       "mean     3.176814e+05\n",
       "std      1.547226e+06\n",
       "min      0.000000e+00\n",
       "25%      7.285000e+02\n",
       "50%      9.224500e+03\n",
       "75%      1.287210e+05\n",
       "max      2.104960e+07\n",
       "Name: 1/5/21, dtype: float64"
      ]
     },
     "execution_count": 410,
     "metadata": {},
     "output_type": "execute_result"
    }
   ],
   "source": [
    "df_confirmed['1/5/21'].describe()"
   ]
  },
  {
   "cell_type": "markdown",
   "metadata": {},
   "source": [
    "Dodatkowo zaimportowana tabela zawierająca spis krajów wraz z podziałem administracyjnym oraz populacją dla danego regionu. Pozostałe dane są nadmiarowe i nie są używane w poniższym raporcie."
   ]
  },
  {
   "cell_type": "code",
   "execution_count": 411,
   "metadata": {},
   "outputs": [
    {
     "data": {
      "text/plain": [
       "Index(['UID', 'iso2', 'iso3', 'code3', 'FIPS', 'Admin2', 'Province_State',\n",
       "       'Country_Region', 'Lat', 'Long_', 'Combined_Key', 'Population'],\n",
       "      dtype='object')"
      ]
     },
     "execution_count": 411,
     "metadata": {},
     "output_type": "execute_result"
    }
   ],
   "source": [
    "df_countries.columns"
   ]
  },
  {
   "cell_type": "code",
   "execution_count": 412,
   "metadata": {},
   "outputs": [
    {
     "data": {
      "text/html": [
       "<div>\n",
       "<style scoped>\n",
       "    .dataframe tbody tr th:only-of-type {\n",
       "        vertical-align: middle;\n",
       "    }\n",
       "\n",
       "    .dataframe tbody tr th {\n",
       "        vertical-align: top;\n",
       "    }\n",
       "\n",
       "    .dataframe thead th {\n",
       "        text-align: right;\n",
       "    }\n",
       "</style>\n",
       "<table border=\"1\" class=\"dataframe\">\n",
       "  <thead>\n",
       "    <tr style=\"text-align: right;\">\n",
       "      <th></th>\n",
       "      <th>UID</th>\n",
       "      <th>iso2</th>\n",
       "      <th>iso3</th>\n",
       "      <th>code3</th>\n",
       "      <th>FIPS</th>\n",
       "      <th>Admin2</th>\n",
       "      <th>Province_State</th>\n",
       "      <th>Country_Region</th>\n",
       "      <th>Lat</th>\n",
       "      <th>Long_</th>\n",
       "      <th>Combined_Key</th>\n",
       "      <th>Population</th>\n",
       "    </tr>\n",
       "  </thead>\n",
       "  <tbody>\n",
       "    <tr>\n",
       "      <th>0</th>\n",
       "      <td>4</td>\n",
       "      <td>AF</td>\n",
       "      <td>AFG</td>\n",
       "      <td>4.0</td>\n",
       "      <td>NaN</td>\n",
       "      <td>NaN</td>\n",
       "      <td>NaN</td>\n",
       "      <td>Afghanistan</td>\n",
       "      <td>33.939110</td>\n",
       "      <td>67.709953</td>\n",
       "      <td>Afghanistan</td>\n",
       "      <td>38928341.0</td>\n",
       "    </tr>\n",
       "    <tr>\n",
       "      <th>1</th>\n",
       "      <td>8</td>\n",
       "      <td>AL</td>\n",
       "      <td>ALB</td>\n",
       "      <td>8.0</td>\n",
       "      <td>NaN</td>\n",
       "      <td>NaN</td>\n",
       "      <td>NaN</td>\n",
       "      <td>Albania</td>\n",
       "      <td>41.153300</td>\n",
       "      <td>20.168300</td>\n",
       "      <td>Albania</td>\n",
       "      <td>2877800.0</td>\n",
       "    </tr>\n",
       "    <tr>\n",
       "      <th>2</th>\n",
       "      <td>12</td>\n",
       "      <td>DZ</td>\n",
       "      <td>DZA</td>\n",
       "      <td>12.0</td>\n",
       "      <td>NaN</td>\n",
       "      <td>NaN</td>\n",
       "      <td>NaN</td>\n",
       "      <td>Algeria</td>\n",
       "      <td>28.033900</td>\n",
       "      <td>1.659600</td>\n",
       "      <td>Algeria</td>\n",
       "      <td>43851043.0</td>\n",
       "    </tr>\n",
       "    <tr>\n",
       "      <th>3</th>\n",
       "      <td>20</td>\n",
       "      <td>AD</td>\n",
       "      <td>AND</td>\n",
       "      <td>20.0</td>\n",
       "      <td>NaN</td>\n",
       "      <td>NaN</td>\n",
       "      <td>NaN</td>\n",
       "      <td>Andorra</td>\n",
       "      <td>42.506300</td>\n",
       "      <td>1.521800</td>\n",
       "      <td>Andorra</td>\n",
       "      <td>77265.0</td>\n",
       "    </tr>\n",
       "    <tr>\n",
       "      <th>4</th>\n",
       "      <td>24</td>\n",
       "      <td>AO</td>\n",
       "      <td>AGO</td>\n",
       "      <td>24.0</td>\n",
       "      <td>NaN</td>\n",
       "      <td>NaN</td>\n",
       "      <td>NaN</td>\n",
       "      <td>Angola</td>\n",
       "      <td>-11.202700</td>\n",
       "      <td>17.873900</td>\n",
       "      <td>Angola</td>\n",
       "      <td>32866268.0</td>\n",
       "    </tr>\n",
       "    <tr>\n",
       "      <th>...</th>\n",
       "      <td>...</td>\n",
       "      <td>...</td>\n",
       "      <td>...</td>\n",
       "      <td>...</td>\n",
       "      <td>...</td>\n",
       "      <td>...</td>\n",
       "      <td>...</td>\n",
       "      <td>...</td>\n",
       "      <td>...</td>\n",
       "      <td>...</td>\n",
       "      <td>...</td>\n",
       "      <td>...</td>\n",
       "    </tr>\n",
       "    <tr>\n",
       "      <th>4166</th>\n",
       "      <td>84056037</td>\n",
       "      <td>US</td>\n",
       "      <td>USA</td>\n",
       "      <td>840.0</td>\n",
       "      <td>56037.0</td>\n",
       "      <td>Sweetwater</td>\n",
       "      <td>Wyoming</td>\n",
       "      <td>US</td>\n",
       "      <td>41.659439</td>\n",
       "      <td>-108.882788</td>\n",
       "      <td>Sweetwater, Wyoming, US</td>\n",
       "      <td>42343.0</td>\n",
       "    </tr>\n",
       "    <tr>\n",
       "      <th>4167</th>\n",
       "      <td>84056039</td>\n",
       "      <td>US</td>\n",
       "      <td>USA</td>\n",
       "      <td>840.0</td>\n",
       "      <td>56039.0</td>\n",
       "      <td>Teton</td>\n",
       "      <td>Wyoming</td>\n",
       "      <td>US</td>\n",
       "      <td>43.935225</td>\n",
       "      <td>-110.589080</td>\n",
       "      <td>Teton, Wyoming, US</td>\n",
       "      <td>23464.0</td>\n",
       "    </tr>\n",
       "    <tr>\n",
       "      <th>4168</th>\n",
       "      <td>84056041</td>\n",
       "      <td>US</td>\n",
       "      <td>USA</td>\n",
       "      <td>840.0</td>\n",
       "      <td>56041.0</td>\n",
       "      <td>Uinta</td>\n",
       "      <td>Wyoming</td>\n",
       "      <td>US</td>\n",
       "      <td>41.287818</td>\n",
       "      <td>-110.547578</td>\n",
       "      <td>Uinta, Wyoming, US</td>\n",
       "      <td>20226.0</td>\n",
       "    </tr>\n",
       "    <tr>\n",
       "      <th>4169</th>\n",
       "      <td>84056043</td>\n",
       "      <td>US</td>\n",
       "      <td>USA</td>\n",
       "      <td>840.0</td>\n",
       "      <td>56043.0</td>\n",
       "      <td>Washakie</td>\n",
       "      <td>Wyoming</td>\n",
       "      <td>US</td>\n",
       "      <td>43.904516</td>\n",
       "      <td>-107.680187</td>\n",
       "      <td>Washakie, Wyoming, US</td>\n",
       "      <td>7805.0</td>\n",
       "    </tr>\n",
       "    <tr>\n",
       "      <th>4170</th>\n",
       "      <td>84056045</td>\n",
       "      <td>US</td>\n",
       "      <td>USA</td>\n",
       "      <td>840.0</td>\n",
       "      <td>56045.0</td>\n",
       "      <td>Weston</td>\n",
       "      <td>Wyoming</td>\n",
       "      <td>US</td>\n",
       "      <td>43.839612</td>\n",
       "      <td>-104.567488</td>\n",
       "      <td>Weston, Wyoming, US</td>\n",
       "      <td>6927.0</td>\n",
       "    </tr>\n",
       "  </tbody>\n",
       "</table>\n",
       "<p>4171 rows × 12 columns</p>\n",
       "</div>"
      ],
      "text/plain": [
       "           UID iso2 iso3  code3     FIPS      Admin2 Province_State  \\\n",
       "0            4   AF  AFG    4.0      NaN         NaN            NaN   \n",
       "1            8   AL  ALB    8.0      NaN         NaN            NaN   \n",
       "2           12   DZ  DZA   12.0      NaN         NaN            NaN   \n",
       "3           20   AD  AND   20.0      NaN         NaN            NaN   \n",
       "4           24   AO  AGO   24.0      NaN         NaN            NaN   \n",
       "...        ...  ...  ...    ...      ...         ...            ...   \n",
       "4166  84056037   US  USA  840.0  56037.0  Sweetwater        Wyoming   \n",
       "4167  84056039   US  USA  840.0  56039.0       Teton        Wyoming   \n",
       "4168  84056041   US  USA  840.0  56041.0       Uinta        Wyoming   \n",
       "4169  84056043   US  USA  840.0  56043.0    Washakie        Wyoming   \n",
       "4170  84056045   US  USA  840.0  56045.0      Weston        Wyoming   \n",
       "\n",
       "     Country_Region        Lat       Long_             Combined_Key  \\\n",
       "0       Afghanistan  33.939110   67.709953              Afghanistan   \n",
       "1           Albania  41.153300   20.168300                  Albania   \n",
       "2           Algeria  28.033900    1.659600                  Algeria   \n",
       "3           Andorra  42.506300    1.521800                  Andorra   \n",
       "4            Angola -11.202700   17.873900                   Angola   \n",
       "...             ...        ...         ...                      ...   \n",
       "4166             US  41.659439 -108.882788  Sweetwater, Wyoming, US   \n",
       "4167             US  43.935225 -110.589080       Teton, Wyoming, US   \n",
       "4168             US  41.287818 -110.547578       Uinta, Wyoming, US   \n",
       "4169             US  43.904516 -107.680187    Washakie, Wyoming, US   \n",
       "4170             US  43.839612 -104.567488      Weston, Wyoming, US   \n",
       "\n",
       "      Population  \n",
       "0     38928341.0  \n",
       "1      2877800.0  \n",
       "2     43851043.0  \n",
       "3        77265.0  \n",
       "4     32866268.0  \n",
       "...          ...  \n",
       "4166     42343.0  \n",
       "4167     23464.0  \n",
       "4168     20226.0  \n",
       "4169      7805.0  \n",
       "4170      6927.0  \n",
       "\n",
       "[4171 rows x 12 columns]"
      ]
     },
     "execution_count": 412,
     "metadata": {},
     "output_type": "execute_result"
    }
   ],
   "source": [
    "df_countries"
   ]
  },
  {
   "cell_type": "markdown",
   "metadata": {},
   "source": [
    "## Wstępna obróbka danych\n",
    "\n",
    "W przypadku tabel z danymi zdecydowano się o usunięciu nadmiarowych kolumn zawierajacych współrzędne geograficzne i podział administracyjny - pozostawiając podział na kraj/region oraz właściwe dane."
   ]
  },
  {
   "cell_type": "code",
   "execution_count": 413,
   "metadata": {},
   "outputs": [],
   "source": [
    "def removeColumns(df, columns):\n",
    "    try:\n",
    "        df.drop(columns, inplace=True, axis=1)\n",
    "    except:\n",
    "        pass\n",
    "    \n",
    "removeColumns(df_confirmed, ['Lat', 'Long', 'Province/State'])\n",
    "removeColumns(df_deaths, ['Lat', 'Long', 'Province/State'])\n",
    "removeColumns(df_recovered, ['Lat', 'Long', 'Province/State'])\n",
    "removeColumns(df_countries, ['UID', 'iso2', 'iso3', 'code3', 'FIPS', 'Admin2', 'Province_State', 'Lat', 'Long_', 'Combined_Key'])"
   ]
  },
  {
   "cell_type": "markdown",
   "metadata": {},
   "source": [
    "Dane źródłowe zawierają nazwy krajów w języku angielskim, stąd na potrzeby raportu zdecydowano o wykonaniu tłumaczenia nazw na język polski na potrzeby niniejszego raportu. \n",
    "\n",
    "Równocześnie zdecydowano o przeformatowaniu nazw kolumn zawierających datę w formacie miesiąc/dzień/rok do formatu rok/miesiac/dzień dla ułatwienia odczytywania daty."
   ]
  },
  {
   "cell_type": "code",
   "execution_count": 414,
   "metadata": {},
   "outputs": [],
   "source": [
    "df_countries['Country_Region'] = df_countries.apply(lambda row: _(row['Country_Region']), axis=1)"
   ]
  },
  {
   "cell_type": "code",
   "execution_count": 415,
   "metadata": {},
   "outputs": [],
   "source": [
    "def formatDateColumnNames(df):\n",
    "    columns = df.columns\n",
    "    df['Country/Region'] = df.apply(lambda row: _(row['Country/Region']), axis=1)\n",
    "    for column in columns:\n",
    "        try:\n",
    "            df.rename(columns={column: datetime.datetime.strptime(column, '%m/%d/%y').strftime('%Y/%m/%d')}, inplace=True)\n",
    "        except:\n",
    "            pass\n",
    "\n",
    "formatDateColumnNames(df_confirmed)\n",
    "formatDateColumnNames(df_deaths)\n",
    "formatDateColumnNames(df_recovered)"
   ]
  },
  {
   "cell_type": "markdown",
   "metadata": {},
   "source": [
    "Po wykonaniu operacji struktura tabel z danymi:"
   ]
  },
  {
   "cell_type": "code",
   "execution_count": 416,
   "metadata": {},
   "outputs": [
    {
     "data": {
      "text/plain": [
       "Index(['Country/Region', '2020/01/22', '2020/01/23', '2020/01/24',\n",
       "       '2020/01/25', '2020/01/26', '2020/01/27', '2020/01/28', '2020/01/29',\n",
       "       '2020/01/30',\n",
       "       ...\n",
       "       '2020/12/30', '2020/12/31', '2021/01/01', '2021/01/02', '2021/01/03',\n",
       "       '2021/01/04', '2021/01/05', '2021/01/06', '2021/01/07', '2021/01/08'],\n",
       "      dtype='object', length=354)"
      ]
     },
     "execution_count": 416,
     "metadata": {},
     "output_type": "execute_result"
    }
   ],
   "source": [
    "df_confirmed.columns"
   ]
  },
  {
   "cell_type": "markdown",
   "metadata": {},
   "source": [
    "Oraz struktura tabeli z populacją i krajami:"
   ]
  },
  {
   "cell_type": "code",
   "execution_count": 417,
   "metadata": {},
   "outputs": [
    {
     "data": {
      "text/plain": [
       "Index(['Country_Region', 'Population'], dtype='object')"
      ]
     },
     "execution_count": 417,
     "metadata": {},
     "output_type": "execute_result"
    }
   ],
   "source": [
    "df_countries.columns"
   ]
  },
  {
   "cell_type": "markdown",
   "metadata": {},
   "source": [
    "Przetłumaczone nazwy krajów w tabeli:"
   ]
  },
  {
   "cell_type": "code",
   "execution_count": 418,
   "metadata": {},
   "outputs": [
    {
     "data": {
      "text/plain": [
       "array(['Afganistan', 'Albania', 'Algieria', 'Andora', 'Angola',\n",
       "       'Antigua i Barbuda', 'Argentyna', 'Armenia', 'Australia',\n",
       "       'Austria', 'Azerbejdżan', 'Bahamy', 'Bahrajn', 'Bangladesz',\n",
       "       'Barbados', 'Białoruś', 'Belgia', 'Belize', 'Benin', 'Bhutan',\n",
       "       'Boliwia', 'Bośnia i Hercegowina', 'Botswana', 'Brazylia',\n",
       "       'Brunei', 'Bułgaria', 'Burkina Faso', 'Burma', 'Burundi',\n",
       "       'Cabo Verde', 'Kambodża', 'Kamerun', 'Kanada',\n",
       "       'Republika Środkowoafrykańska', 'Czad', 'Chile', 'Chiny',\n",
       "       'Kolumbia', 'Komory', 'Congo (Brazzaville)', 'Congo (Kinshasa)',\n",
       "       'Kostaryka', \"Cote d'Ivoire\", 'Chorwacja', 'Kuba', 'Cypr',\n",
       "       'Czechia', 'Dania', 'Diamond Princess', 'Dżibuti', 'Dominika',\n",
       "       'Dominikana', 'Ekwador', 'Egipt', 'Salwador', 'Gwinea Równikowa',\n",
       "       'Erytrea', 'Estonia', 'Eswatini', 'Etiopia', 'Fidżi', 'Finlandia',\n",
       "       'Francja', 'Gabon', 'Gambia', 'Gruzja', 'Niemcy', 'Ghana',\n",
       "       'Grecja', 'Grenada', 'Gwatemala', 'Gwinea', 'Gwinea Bissau',\n",
       "       'Gujana', 'Haiti', 'Holy See', 'Honduras', 'Węgry', 'Islandia',\n",
       "       'Indie', 'Indonezja', 'Iran', 'Irak', 'Irlandia', 'Izrael',\n",
       "       'Włochy', 'Jamajka', 'Japonia', 'Jordania', 'Kazachstan', 'Kenia',\n",
       "       'Korea, South', 'Kosovo', 'Kuwejt', 'Kirgistan', 'Laos', 'Łotwa',\n",
       "       'Liban', 'Lesoto', 'Liberia', 'Libia', 'Liechtenstein', 'Litwa',\n",
       "       'Luksemburg', 'MS Zaandam', 'Madagaskar', 'Malawi', 'Malezja',\n",
       "       'Malediwy', 'Mali', 'Malta', 'Wyspy Marshalla', 'Mauretania',\n",
       "       'Mauritius', 'Meksyk', 'Mołdawia', 'Monako', 'Mongolia',\n",
       "       'Czarnogóra', 'Maroko', 'Mozambik', 'Namibia', 'Nepal', 'Holandia',\n",
       "       'Nowa Zelandia', 'Nikaragua', 'Niger', 'Nigeria',\n",
       "       'North Macedonia', 'Norwegia', 'Oman', 'Pakistan', 'Panama',\n",
       "       'Papua-Nowa Gwinea', 'Paragwaj', 'Peru', 'Filipiny', 'Polska',\n",
       "       'Portugalia', 'Katar', 'Rumunia', 'Russia', 'Ruanda',\n",
       "       'Saint Kitts i Nevis', 'Saint Lucia', 'Saint Vincent i Grenadyny',\n",
       "       'Samoa', 'San Marino', 'Wyspy Świętego Tomasza i Książęca',\n",
       "       'Arabia Saudyjska', 'Senegal', 'Serbia', 'Seszele', 'Sierra Leone',\n",
       "       'Singapur', 'Słowacja', 'Słowenia', 'Wyspy Salomona', 'Somalia',\n",
       "       'Republika Południowej Afryki', 'Sudan Południowy', 'Hiszpania',\n",
       "       'Sri Lanka', 'Sudan', 'Surinam', 'Szwecja', 'Szwajcaria', 'Syria',\n",
       "       'Taiwan*', 'Tadżykistan', 'Tanzania', 'Tajlandia',\n",
       "       'Timor Wschodni', 'Togo', 'Trynidad i Tobago', 'Tunezja', 'Turcja',\n",
       "       'US', 'Uganda', 'Ukraina', 'Zjednoczone Emiraty Arabskie',\n",
       "       'Wielka Brytania', 'Urugwaj', 'Uzbekistan', 'Vanuatu', 'Wenezuela',\n",
       "       'Vietnam', 'West Bank and Gaza', 'Jemen', 'Zambia', 'Zimbabwe'],\n",
       "      dtype=object)"
      ]
     },
     "execution_count": 418,
     "metadata": {},
     "output_type": "execute_result"
    }
   ],
   "source": [
    "df_confirmed['Country/Region'].unique()"
   ]
  },
  {
   "cell_type": "markdown",
   "metadata": {},
   "source": [
    "Następnie przygotowano pomocniczą listę zawierajacą daty raportów."
   ]
  },
  {
   "cell_type": "code",
   "execution_count": 419,
   "metadata": {},
   "outputs": [
    {
     "data": {
      "text/plain": [
       "['2020/01/22',\n",
       " '2020/01/23',\n",
       " '2020/01/24',\n",
       " '2020/01/25',\n",
       " '2020/01/26',\n",
       " '2020/01/27',\n",
       " '2020/01/28',\n",
       " '2020/01/29',\n",
       " '2020/01/30',\n",
       " '2020/01/31',\n",
       " '2020/02/01',\n",
       " '2020/02/02',\n",
       " '2020/02/03',\n",
       " '2020/02/04',\n",
       " '2020/02/05',\n",
       " '2020/02/06',\n",
       " '2020/02/07',\n",
       " '2020/02/08',\n",
       " '2020/02/09',\n",
       " '2020/02/10',\n",
       " '2020/02/11',\n",
       " '2020/02/12',\n",
       " '2020/02/13',\n",
       " '2020/02/14',\n",
       " '2020/02/15',\n",
       " '2020/02/16',\n",
       " '2020/02/17',\n",
       " '2020/02/18',\n",
       " '2020/02/19',\n",
       " '2020/02/20',\n",
       " '2020/02/21',\n",
       " '2020/02/22',\n",
       " '2020/02/23',\n",
       " '2020/02/24',\n",
       " '2020/02/25',\n",
       " '2020/02/26',\n",
       " '2020/02/27',\n",
       " '2020/02/28',\n",
       " '2020/02/29',\n",
       " '2020/03/01',\n",
       " '2020/03/02',\n",
       " '2020/03/03',\n",
       " '2020/03/04',\n",
       " '2020/03/05',\n",
       " '2020/03/06',\n",
       " '2020/03/07',\n",
       " '2020/03/08',\n",
       " '2020/03/09',\n",
       " '2020/03/10',\n",
       " '2020/03/11',\n",
       " '2020/03/12',\n",
       " '2020/03/13',\n",
       " '2020/03/14',\n",
       " '2020/03/15',\n",
       " '2020/03/16',\n",
       " '2020/03/17',\n",
       " '2020/03/18',\n",
       " '2020/03/19',\n",
       " '2020/03/20',\n",
       " '2020/03/21',\n",
       " '2020/03/22',\n",
       " '2020/03/23',\n",
       " '2020/03/24',\n",
       " '2020/03/25',\n",
       " '2020/03/26',\n",
       " '2020/03/27',\n",
       " '2020/03/28',\n",
       " '2020/03/29',\n",
       " '2020/03/30',\n",
       " '2020/03/31',\n",
       " '2020/04/01',\n",
       " '2020/04/02',\n",
       " '2020/04/03',\n",
       " '2020/04/04',\n",
       " '2020/04/05',\n",
       " '2020/04/06',\n",
       " '2020/04/07',\n",
       " '2020/04/08',\n",
       " '2020/04/09',\n",
       " '2020/04/10',\n",
       " '2020/04/11',\n",
       " '2020/04/12',\n",
       " '2020/04/13',\n",
       " '2020/04/14',\n",
       " '2020/04/15',\n",
       " '2020/04/16',\n",
       " '2020/04/17',\n",
       " '2020/04/18',\n",
       " '2020/04/19',\n",
       " '2020/04/20',\n",
       " '2020/04/21',\n",
       " '2020/04/22',\n",
       " '2020/04/23',\n",
       " '2020/04/24',\n",
       " '2020/04/25',\n",
       " '2020/04/26',\n",
       " '2020/04/27',\n",
       " '2020/04/28',\n",
       " '2020/04/29',\n",
       " '2020/04/30',\n",
       " '2020/05/01',\n",
       " '2020/05/02',\n",
       " '2020/05/03',\n",
       " '2020/05/04',\n",
       " '2020/05/05',\n",
       " '2020/05/06',\n",
       " '2020/05/07',\n",
       " '2020/05/08',\n",
       " '2020/05/09',\n",
       " '2020/05/10',\n",
       " '2020/05/11',\n",
       " '2020/05/12',\n",
       " '2020/05/13',\n",
       " '2020/05/14',\n",
       " '2020/05/15',\n",
       " '2020/05/16',\n",
       " '2020/05/17',\n",
       " '2020/05/18',\n",
       " '2020/05/19',\n",
       " '2020/05/20',\n",
       " '2020/05/21',\n",
       " '2020/05/22',\n",
       " '2020/05/23',\n",
       " '2020/05/24',\n",
       " '2020/05/25',\n",
       " '2020/05/26',\n",
       " '2020/05/27',\n",
       " '2020/05/28',\n",
       " '2020/05/29',\n",
       " '2020/05/30',\n",
       " '2020/05/31',\n",
       " '2020/06/01',\n",
       " '2020/06/02',\n",
       " '2020/06/03',\n",
       " '2020/06/04',\n",
       " '2020/06/05',\n",
       " '2020/06/06',\n",
       " '2020/06/07',\n",
       " '2020/06/08',\n",
       " '2020/06/09',\n",
       " '2020/06/10',\n",
       " '2020/06/11',\n",
       " '2020/06/12',\n",
       " '2020/06/13',\n",
       " '2020/06/14',\n",
       " '2020/06/15',\n",
       " '2020/06/16',\n",
       " '2020/06/17',\n",
       " '2020/06/18',\n",
       " '2020/06/19',\n",
       " '2020/06/20',\n",
       " '2020/06/21',\n",
       " '2020/06/22',\n",
       " '2020/06/23',\n",
       " '2020/06/24',\n",
       " '2020/06/25',\n",
       " '2020/06/26',\n",
       " '2020/06/27',\n",
       " '2020/06/28',\n",
       " '2020/06/29',\n",
       " '2020/06/30',\n",
       " '2020/07/01',\n",
       " '2020/07/02',\n",
       " '2020/07/03',\n",
       " '2020/07/04',\n",
       " '2020/07/05',\n",
       " '2020/07/06',\n",
       " '2020/07/07',\n",
       " '2020/07/08',\n",
       " '2020/07/09',\n",
       " '2020/07/10',\n",
       " '2020/07/11',\n",
       " '2020/07/12',\n",
       " '2020/07/13',\n",
       " '2020/07/14',\n",
       " '2020/07/15',\n",
       " '2020/07/16',\n",
       " '2020/07/17',\n",
       " '2020/07/18',\n",
       " '2020/07/19',\n",
       " '2020/07/20',\n",
       " '2020/07/21',\n",
       " '2020/07/22',\n",
       " '2020/07/23',\n",
       " '2020/07/24',\n",
       " '2020/07/25',\n",
       " '2020/07/26',\n",
       " '2020/07/27',\n",
       " '2020/07/28',\n",
       " '2020/07/29',\n",
       " '2020/07/30',\n",
       " '2020/07/31',\n",
       " '2020/08/01',\n",
       " '2020/08/02',\n",
       " '2020/08/03',\n",
       " '2020/08/04',\n",
       " '2020/08/05',\n",
       " '2020/08/06',\n",
       " '2020/08/07',\n",
       " '2020/08/08',\n",
       " '2020/08/09',\n",
       " '2020/08/10',\n",
       " '2020/08/11',\n",
       " '2020/08/12',\n",
       " '2020/08/13',\n",
       " '2020/08/14',\n",
       " '2020/08/15',\n",
       " '2020/08/16',\n",
       " '2020/08/17',\n",
       " '2020/08/18',\n",
       " '2020/08/19',\n",
       " '2020/08/20',\n",
       " '2020/08/21',\n",
       " '2020/08/22',\n",
       " '2020/08/23',\n",
       " '2020/08/24',\n",
       " '2020/08/25',\n",
       " '2020/08/26',\n",
       " '2020/08/27',\n",
       " '2020/08/28',\n",
       " '2020/08/29',\n",
       " '2020/08/30',\n",
       " '2020/08/31',\n",
       " '2020/09/01',\n",
       " '2020/09/02',\n",
       " '2020/09/03',\n",
       " '2020/09/04',\n",
       " '2020/09/05',\n",
       " '2020/09/06',\n",
       " '2020/09/07',\n",
       " '2020/09/08',\n",
       " '2020/09/09',\n",
       " '2020/09/10',\n",
       " '2020/09/11',\n",
       " '2020/09/12',\n",
       " '2020/09/13',\n",
       " '2020/09/14',\n",
       " '2020/09/15',\n",
       " '2020/09/16',\n",
       " '2020/09/17',\n",
       " '2020/09/18',\n",
       " '2020/09/19',\n",
       " '2020/09/20',\n",
       " '2020/09/21',\n",
       " '2020/09/22',\n",
       " '2020/09/23',\n",
       " '2020/09/24',\n",
       " '2020/09/25',\n",
       " '2020/09/26',\n",
       " '2020/09/27',\n",
       " '2020/09/28',\n",
       " '2020/09/29',\n",
       " '2020/09/30',\n",
       " '2020/10/01',\n",
       " '2020/10/02',\n",
       " '2020/10/03',\n",
       " '2020/10/04',\n",
       " '2020/10/05',\n",
       " '2020/10/06',\n",
       " '2020/10/07',\n",
       " '2020/10/08',\n",
       " '2020/10/09',\n",
       " '2020/10/10',\n",
       " '2020/10/11',\n",
       " '2020/10/12',\n",
       " '2020/10/13',\n",
       " '2020/10/14',\n",
       " '2020/10/15',\n",
       " '2020/10/16',\n",
       " '2020/10/17',\n",
       " '2020/10/18',\n",
       " '2020/10/19',\n",
       " '2020/10/20',\n",
       " '2020/10/21',\n",
       " '2020/10/22',\n",
       " '2020/10/23',\n",
       " '2020/10/24',\n",
       " '2020/10/25',\n",
       " '2020/10/26',\n",
       " '2020/10/27',\n",
       " '2020/10/28',\n",
       " '2020/10/29',\n",
       " '2020/10/30',\n",
       " '2020/10/31',\n",
       " '2020/11/01',\n",
       " '2020/11/02',\n",
       " '2020/11/03',\n",
       " '2020/11/04',\n",
       " '2020/11/05',\n",
       " '2020/11/06',\n",
       " '2020/11/07',\n",
       " '2020/11/08',\n",
       " '2020/11/09',\n",
       " '2020/11/10',\n",
       " '2020/11/11',\n",
       " '2020/11/12',\n",
       " '2020/11/13',\n",
       " '2020/11/14',\n",
       " '2020/11/15',\n",
       " '2020/11/16',\n",
       " '2020/11/17',\n",
       " '2020/11/18',\n",
       " '2020/11/19',\n",
       " '2020/11/20',\n",
       " '2020/11/21',\n",
       " '2020/11/22',\n",
       " '2020/11/23',\n",
       " '2020/11/24',\n",
       " '2020/11/25',\n",
       " '2020/11/26',\n",
       " '2020/11/27',\n",
       " '2020/11/28',\n",
       " '2020/11/29',\n",
       " '2020/11/30',\n",
       " '2020/12/01',\n",
       " '2020/12/02',\n",
       " '2020/12/03',\n",
       " '2020/12/04',\n",
       " '2020/12/05',\n",
       " '2020/12/06',\n",
       " '2020/12/07',\n",
       " '2020/12/08',\n",
       " '2020/12/09',\n",
       " '2020/12/10',\n",
       " '2020/12/11',\n",
       " '2020/12/12',\n",
       " '2020/12/13',\n",
       " '2020/12/14',\n",
       " '2020/12/15',\n",
       " '2020/12/16',\n",
       " '2020/12/17',\n",
       " '2020/12/18',\n",
       " '2020/12/19',\n",
       " '2020/12/20',\n",
       " '2020/12/21',\n",
       " '2020/12/22',\n",
       " '2020/12/23',\n",
       " '2020/12/24',\n",
       " '2020/12/25',\n",
       " '2020/12/26',\n",
       " '2020/12/27',\n",
       " '2020/12/28',\n",
       " '2020/12/29',\n",
       " '2020/12/30',\n",
       " '2020/12/31',\n",
       " '2021/01/01',\n",
       " '2021/01/02',\n",
       " '2021/01/03',\n",
       " '2021/01/04',\n",
       " '2021/01/05',\n",
       " '2021/01/06',\n",
       " '2021/01/07',\n",
       " '2021/01/08']"
      ]
     },
     "execution_count": 419,
     "metadata": {},
     "output_type": "execute_result"
    }
   ],
   "source": [
    "# Przygotowanie indeksu dat\n",
    "l_dates = df_confirmed.columns.tolist()\n",
    "l_dates.pop(0)\n",
    "l_dates"
   ]
  },
  {
   "cell_type": "markdown",
   "metadata": {},
   "source": [
    "## Analiza danych\n",
    "\n",
    "Ze względu na dużą liczbę dostępnych danych zdecydowano sie na przygotowanie interaktywnych wykresów pozwalających ograniczyć liczbę wyświetlanych danych. W zależności od wykresu będzie to kraj, rodzaj przypadków lub przedział występowania.\n",
    "\n",
    "Analiza została przeprowadzona na dzień 7 stycznia 2021 stąd ze względu na ciągłą aktualizację danych źródłowych komentarze dotyczące poszczególnych zaobserwowanych zależności mogą nie w przyszłości nie odpowiadać wykresom oraz omawianym danym.\n"
   ]
  },
  {
   "cell_type": "markdown",
   "metadata": {},
   "source": [
    "### Całkowita liczba przypadków covid-19 w wybranym kraju w danym dniu.\n",
    "\n",
    "Poniższy wykres pozwala na wybranie kraju oraz rodzaju przypadku (potwierdzone, śmiertelne, wyzdrowienia) i obejrzenie wykresu przedstawiającego całkowitą jego liczbę w poszczególnych dniach. \n",
    "\n",
    "W domyślnej konfiguracji wykres został ustawiony dla kraju Polska oraz przypadków potwierdzonych. Poniżej wykresu przedstawiono wnioski z analizy wykresu."
   ]
  },
  {
   "cell_type": "code",
   "execution_count": 426,
   "metadata": {},
   "outputs": [
    {
     "data": {
      "application/vnd.jupyter.widget-view+json": {
       "model_id": "216e11f9fdc7415ca893392b6d26f393",
       "version_major": 2,
       "version_minor": 0
      },
      "text/plain": [
       "interactive(children=(Dropdown(description='Kraj:', index=135, options=('Afganistan', 'Albania', 'Algieria', '…"
      ]
     },
     "metadata": {},
     "output_type": "display_data"
    }
   ],
   "source": [
    "@interact\n",
    "def show_cases_by_country_type(\n",
    "    country=widgets.Dropdown(\n",
    "        options=sorted(df_countries['Country_Region'].unique()), \n",
    "        value=_(\"Poland\"),\n",
    "        description='Kraj:',\n",
    "    ),\n",
    "    typ=widgets.Dropdown(\n",
    "        options=['potwierdzone', 'śmiertelne', 'wyzdrowienia'], \n",
    "        value='potwierdzone',\n",
    "        description=\"Rodzaj przypadku:\"\n",
    "    )):\n",
    "    \n",
    "    # Choose correct dataframe and corresponding color\n",
    "    if typ == 'potwierdzone':  \n",
    "        df = df_confirmed\n",
    "        color = ['#636efa']\n",
    "    elif typ == 'śmiertelne':\n",
    "        df = df_deaths\n",
    "        color = ['#ef553b']\n",
    "    else:\n",
    "        df = df_recovered\n",
    "        color = ['#00cc96']\n",
    "    \n",
    "    # Group data by countries (if country data is provided with regions)\n",
    "    return pd.pivot_table(df.loc[df['Country/Region'] == country], \n",
    "                          columns=['Country/Region'], \n",
    "                          aggfunc=sum, \n",
    "                          fill_value=0\n",
    "                        ).iplot(\n",
    "                            kind=\"bar\", \n",
    "                            theme=\"white\", \n",
    "                            color=color, \n",
    "                            title='Suma '+typ+\" przypadki covid-19 w \" + _(country))"
   ]
  },
  {
   "cell_type": "markdown",
   "metadata": {},
   "source": [
    "Z wykresu sumy potwierdzonych zachorowań dla Polski możemy zauważyć tendencję wzrostową dla sumy zachorowań rozpoczynającą się w okolicach początku października. Podobnie sytuacja wygląda dla przypadków śmiertelnych w wybranym czasie, jednakże zauważyć można przesunięcie wzorstu o parę tygodni."
   ]
  },
  {
   "cell_type": "markdown",
   "metadata": {},
   "source": [
    "### Podsumowanie liczby zachorowań dla wybranych krajów\n",
    "\n",
    "W poniższej analizie przedstawiono wizualnie i liczbowo porównanie sumy zachorowań na covid-19 dla wybranej daty, dla krajów o największej sumie liczby zachorowań.\n",
    "\n",
    "Interaktywny wykres pozwala na wybór daty, rodzaju przypadku oraz liczby krajów dla którego jest generowana wizualizacja przedstawiająca powierzchniowo ilość dla wybranych przypadku w konteście całego świata."
   ]
  },
  {
   "cell_type": "code",
   "execution_count": 421,
   "metadata": {},
   "outputs": [
    {
     "data": {
      "application/vnd.jupyter.widget-view+json": {
       "model_id": "9974ccba55ab4e14b4308cac20975b9d",
       "version_major": 2,
       "version_minor": 0
      },
      "text/plain": [
       "interactive(children=(DatePicker(value=datetime.date(2021, 1, 7), description='Dzień:'), Dropdown(description=…"
      ]
     },
     "metadata": {},
     "output_type": "display_data"
    }
   ],
   "source": [
    "@interact\n",
    "def show_squared_top_N_type_country(\n",
    "    data=widgets.DatePicker(\n",
    "        disabled=False,\n",
    "        description='Dzień:',\n",
    "        value=datetime.date(2021, 1, 7),\n",
    "    ),\n",
    "    typ=widgets.Dropdown(\n",
    "        options=['potwierdzone', 'śmiertelne', 'wyzdrowienia'], \n",
    "        value='potwierdzone',\n",
    "        description='Rodzaj przypadku:'\n",
    "    ),\n",
    "    liczba_krajow=widgets.IntSlider(\n",
    "        value=10,\n",
    "        min=5,\n",
    "        max=20,\n",
    "        step=1,\n",
    "        description='Liczba krajów:',\n",
    "        disabled=False,\n",
    "        continuous_update=False,\n",
    "        orientation='horizontal',\n",
    "        readout=True,\n",
    "        readout_format='d'\n",
    "    )):\n",
    "    \n",
    "    # Convert data from datePicker to correct format\n",
    "    data = data.strftime('%Y/%m/%d')\n",
    "\n",
    "    # Choose correct dataframe\n",
    "    if typ == 'potwierdzone':  \n",
    "        df = df_confirmed\n",
    "    elif typ == 'śmiertelne':\n",
    "        df = df_deaths\n",
    "    else:\n",
    "        df = df_recovered\n",
    "    \n",
    "    # Validate date\n",
    "    if (data not in df.columns):\n",
    "        return \"Data spoza zakresu: \"+df.columns[2] + \" - \" + df.columns[-1]\n",
    "    \n",
    "    # Preprocess dataframe (0 values cannot be displayed on squarify plot)\n",
    "    df = df.groupby(by=[\"Country/Region\"]).sum().sort_values(by=[data], ascending=False)\n",
    "    df = df.loc[df[data] > 0]\n",
    "    \n",
    "    # Rename indexes to have numer of cases below country name\n",
    "    df = df.rename(index=lambda s: s + '\\n' + str(df.loc[s][data]))\n",
    "\n",
    "    # Append total of not included by name\n",
    "    all_data = df[data].head(liczba_krajow)\n",
    "    sum_other = df[data].sum()-df[data].head(liczba_krajow).sum()\n",
    "    series = pd.Series([sum_other], index=['Pozostałe kraje\\n'+str(sum_other)])\n",
    "    all_data = all_data.append(series)\n",
    "    \n",
    "    # Plot the chart\n",
    "    fig1 = plt.figure()\n",
    "    ax = fig1.add_subplot()\n",
    "    fig1.set_size_inches(10, 7)\n",
    "    squarify.plot(\n",
    "        sizes=all_data, \n",
    "        label=all_data.index, \n",
    "        alpha=.8, \n",
    "        color=palettable.colorbrewer.qualitative.Paired_10.mpl_colors)\n",
    "    plt.axis('off')\n",
    "    plt.title(\"Wizualizacja liczby potwierdzonych zachorowań\\ndla \"+str(liczba_krajow)+\" krajów z największą liczbą zachorowań \\nw dniu \"+data,fontsize=23,fontweight=\"bold\")\n",
    "    plt.show()\n",
    "        "
   ]
  },
  {
   "cell_type": "markdown",
   "metadata": {},
   "source": [
    "Z danych możemy wywnioskować, że najwięcej potwierdzonych zachorowań do dnia 7 stycznia 2021 stwierdzono w USA, liczba ta wyniosiła 21.5miliona, kolejnym w kolejności krajem o najwyższej liczbie potwierdzonych zachorowań są Indie z liczbą ok 10 milionów zachorowań. W dziesiątce krajów najbardziej dotkniętych epidemią nie znajdują się Chiny, gdzie stwierdzono pierwszy przypadek wystąpienia covid-19."
   ]
  },
  {
   "cell_type": "markdown",
   "metadata": {},
   "source": [
    "### Łącznie przypadki dla kraju\n",
    "\n",
    "Poniższy wykres przedstawia skumulowaną liczbę sumy przypadków zachorowań, śmiertelnych i ozdrowień do danego dnia. Wykres pozwala na wybór kraju, dla którego zostanie przedstawiona wizualizacja na wykresie."
   ]
  },
  {
   "cell_type": "code",
   "execution_count": 422,
   "metadata": {
    "scrolled": false
   },
   "outputs": [
    {
     "data": {
      "application/vnd.jupyter.widget-view+json": {
       "model_id": "9085c8ceb7534a998ad8ac9988e8f832",
       "version_major": 2,
       "version_minor": 0
      },
      "text/plain": [
       "interactive(children=(Dropdown(description='Kraj:', index=32, options=('Afganistan', 'Albania', 'Algieria', 'A…"
      ]
     },
     "metadata": {},
     "output_type": "display_data"
    }
   ],
   "source": [
    "@interact\n",
    "def show_cumulative_by_c(\n",
    "    country=widgets.Dropdown(\n",
    "        options=sorted(df_countries['Country_Region'].unique()), \n",
    "        value=_(\"Chiny\"),\n",
    "        description='Kraj:'\n",
    "    )):\n",
    "    \n",
    "    # Group data by countries (if country data is provided with regions)\n",
    "    data_confirmed_pivot = pd.pivot_table(df_confirmed.loc[df_confirmed['Country/Region'] == country], \n",
    "                          columns=['Country/Region'], \n",
    "                          aggfunc=sum, \n",
    "                          fill_value=0).rename(columns={country: 'potwierdzone'})\n",
    "    data_confirmed_pivot.reset_index(inplace=True)\n",
    "    data_deaths_pivot =  pd.pivot_table(df_deaths.loc[df_deaths['Country/Region'] == country], \n",
    "                          columns=['Country/Region'], \n",
    "                          aggfunc=sum, \n",
    "                          fill_value=0).rename(columns={country: 'śmiertelne'})\n",
    "    data_deaths_pivot.reset_index(inplace=True)\n",
    "    data_recovered_pivot =  pd.pivot_table(df_recovered.loc[df_recovered['Country/Region'] == country], \n",
    "                          columns=['Country/Region'], \n",
    "                          aggfunc=sum, \n",
    "                          fill_value=0).rename(columns={country: 'wyzdrowienia'})\n",
    "    data_recovered_pivot.reset_index(inplace=True)\n",
    "    \n",
    "    # Merge to single dataframe\n",
    "    all_data = pd.merge(data_confirmed_pivot, data_deaths_pivot, 'left', on = [\"index\"] )\n",
    "    all_data = pd.merge(all_data, data_recovered_pivot, 'left', on = [\"index\"] )\n",
    "    all_data.reset_index(inplace=True)\n",
    "    \n",
    "    # count active cases\n",
    "    all_data['aktywne'] = 0\n",
    "    for i in range(len(all_data)):\n",
    "        all_data.loc[i,'aktywne'] = all_data.loc[i,'potwierdzone'] - all_data.loc[i,'śmiertelne'] - all_data.loc[i,'wyzdrowienia']\n",
    "    \n",
    "    fig = px.bar(\n",
    "        all_data, \n",
    "        x=\"index\", \n",
    "        y=[\"aktywne\", \"śmiertelne\", \"wyzdrowienia\"], \n",
    "        title=\"Łącznie przypadki covid-19 w \"+country, \n",
    "        labels={\n",
    "                     \"index\": \"Dzień\",\n",
    "                     \"value\": \"Całkowita liczba przypadków do dnia\",\n",
    "                     \"variable\": \"Rodzaj przypadku\"\n",
    "                 },\n",
    "        color_discrete_sequence=['#636efa', '#ef553b', '#00cc96'])\n",
    "    fig.show()"
   ]
  },
  {
   "cell_type": "markdown",
   "metadata": {},
   "source": [
    "Dla wybranego kraju - Chiny, gdzie wykryto pierwsze przypadki występowania wirusa covid-19 -na podstawie analizy wygenerowanego wykresu możemy zauważyć, że od okolic początka marca liczba zachorowań systematycznie spada i utrzymuje się na niskim poziomie. A ogólna liczba zachorowań w momencie analizy jest znacząco mniejsza niż dla krajów z [top10](#Łącznie-przypadki-dla-kraju)"
   ]
  },
  {
   "cell_type": "markdown",
   "metadata": {},
   "source": [
    "### Dzienny przyrost przypadków covid-19 dla kraju\n",
    "\n",
    "Wykres przedstawia dzienny przyrost liczby przypadków dla wybranego kraju. Liczba dziennego przyrostu obliczona jest z na podstawie danych o całkowitej liczbie przypadków."
   ]
  },
  {
   "cell_type": "code",
   "execution_count": 423,
   "metadata": {},
   "outputs": [
    {
     "data": {
      "application/vnd.jupyter.widget-view+json": {
       "model_id": "f462b0e0c668403d97753616b88f2217",
       "version_major": 2,
       "version_minor": 0
      },
      "text/plain": [
       "interactive(children=(Dropdown(description='Kraj:', index=135, options=('Afganistan', 'Albania', 'Algieria', '…"
      ]
     },
     "metadata": {},
     "output_type": "display_data"
    }
   ],
   "source": [
    "@interact\n",
    "def show_daily_type_country(\n",
    "    country=widgets.Dropdown(\n",
    "        options=sorted(df_countries['Country_Region'].unique()), \n",
    "        value=_(\"Poland\"),\n",
    "        description='Kraj:'\n",
    "    ),\n",
    "    typ=widgets.Dropdown(\n",
    "        options=['potwierdzone', 'śmiertelne', 'wyzdrowienia'], \n",
    "        value='potwierdzone',\n",
    "        description='Rodzaj przypadku:'\n",
    "    )):\n",
    "    \n",
    "    # Choose correct dataframe and color\n",
    "    if typ == 'potwierdzone':  \n",
    "        df = df_confirmed\n",
    "        color = ['#636efa']\n",
    "    elif typ == 'śmiertelne':\n",
    "        df = df_deaths\n",
    "        color = ['#ef553b']\n",
    "    else:\n",
    "        df = df_recovered\n",
    "        color = ['#00cc96']\n",
    "\n",
    "    # Process dataframe\n",
    "    df = pd.pivot_table(df.loc[df['Country/Region'] == country], \n",
    "                          columns=['Country/Region'], \n",
    "                          aggfunc=sum, \n",
    "                          fill_value=0\n",
    "                       ).rename(columns={country: 'total'})\n",
    "    df.reset_index(inplace=True)\n",
    "    \n",
    "    last = None\n",
    "    df[typ] = 0\n",
    "    for i in range(len(df)):\n",
    "        if (i == 0):\n",
    "            continue\n",
    "        df.loc[i,typ] = df.loc[i,'total'] - df.loc[i-1,'total']\n",
    "    \n",
    "    fig = px.line(\n",
    "        df, \n",
    "        x=\"index\", \n",
    "        y=[typ], \n",
    "        title=\"Przypadki \"+typ+\" (dzienne) covid-19 w \"+country, \n",
    "        labels={\n",
    "             \"index\": \"Dzień\",\n",
    "             \"value\": \"Liczba przypadków zaraportowanych w dniu\",\n",
    "             \"variable\": \"Rodzaj przypadku\"\n",
    "        },\n",
    "        color_discrete_sequence=color)\n",
    "    fig.show()"
   ]
  },
  {
   "cell_type": "markdown",
   "metadata": {},
   "source": [
    "Z wykresu potwierdzonych nowych przypadków dla każdego dnia dla Polski, możemy zauważyć duży wzrost rozpoczynający się w okolicach połowy września. Największa liczba raportowanych dziennych zachorowań przypada na listopad, gdzie w szytowym momencie zaraportowane zostało nawet 32 tysiące nowych zachorowań w ciągu dnia. Od początku grudnia możemy zaobserwować duże wachania w okolicach niedzieli/poniedziałku - wynikające prawdopodobnie z metody raportowania danych.\n",
    "\n",
    "Po przełączeniu wykresu na kraj Włochy możemy zaobserwować jak wygląda profil zachorowań dla tego kraju. W porównaniu do Polski - widać dwa wzrosty, pierwszy w okolicach marca 2020, a kolejny w okolicach października. Drugi z wzrostów zbiega się z wzrostami widocznymi na wykresie dla Polski."
   ]
  },
  {
   "cell_type": "markdown",
   "metadata": {},
   "source": [
    "### Zachorowania a populacja kraju\n",
    "\n",
    "Wykres przedstawia liczbę potwierdzonych przypadków zachorowań, śmierci i wyzdrowień na tle pozostałej populacji danego kraju."
   ]
  },
  {
   "cell_type": "code",
   "execution_count": 424,
   "metadata": {
    "scrolled": false
   },
   "outputs": [
    {
     "data": {
      "application/vnd.jupyter.widget-view+json": {
       "model_id": "477a1ac9d8ad4560a067c2e22b42ada7",
       "version_major": 2,
       "version_minor": 0
      },
      "text/plain": [
       "interactive(children=(DatePicker(value=datetime.date(2021, 1, 7), description='Dzień:'), Dropdown(description=…"
      ]
     },
     "metadata": {},
     "output_type": "display_data"
    }
   ],
   "source": [
    "@interact\n",
    "def show_top_10_type_country(\n",
    "    data=widgets.DatePicker(\n",
    "        disabled=False,\n",
    "        description='Dzień:',\n",
    "        value=datetime.date(2021, 1, 7),\n",
    "    ),\n",
    "     country=widgets.Dropdown(\n",
    "        options=sorted(df_countries['Country_Region'].unique()), \n",
    "        value=_(\"Poland\"),\n",
    "        description='Kraj:'\n",
    "    )):\n",
    "    \n",
    "    # Convert data from datePicker to correct format\n",
    "    data = data.strftime('%Y/%m/%d')\n",
    "    \n",
    "    # Validate date\n",
    "    if (data not in df_confirmed.columns):\n",
    "        return \"Data spoza zakresu: \"+df_confirmed.columns[2] + \" - \" + df_confirmed.columns[-1]\n",
    "    \n",
    "    # Group data by countries (if country data is provided with regions)\n",
    "    data_confirmed_pivot = pd.pivot_table(df_confirmed.loc[df_confirmed['Country/Region'] == country], \n",
    "                          columns=['Country/Region'], \n",
    "                          aggfunc=sum, \n",
    "                          fill_value=0).rename(columns={country: 'potwierdzone'})\n",
    "    data_confirmed_pivot.reset_index(inplace=True)\n",
    "    data_deaths_pivot =  pd.pivot_table(df_deaths.loc[df_deaths['Country/Region'] == country], \n",
    "                          columns=['Country/Region'], \n",
    "                          aggfunc=sum, \n",
    "                          fill_value=0).rename(columns={country: 'śmiertelne'})\n",
    "    data_deaths_pivot.reset_index(inplace=True)\n",
    "    data_recovered_pivot =  pd.pivot_table(df_recovered.loc[df_recovered['Country/Region'] == country], \n",
    "                          columns=['Country/Region'], \n",
    "                          aggfunc=sum, \n",
    "                          fill_value=0).rename(columns={country: 'wyzdrowienia'})\n",
    "    data_recovered_pivot.reset_index(inplace=True)\n",
    "    \n",
    "    # Merge to single dataframe\n",
    "    all_data = pd.merge(data_confirmed_pivot, data_deaths_pivot, 'left', on = [\"index\"] )\n",
    "    all_data = pd.merge(all_data, data_recovered_pivot, 'left', on = [\"index\"] )\n",
    "    all_data.reset_index(inplace=True)\n",
    "    \n",
    "    population = int(df_countries.loc[df_countries['Country_Region'] == country]['Population'].sum())\n",
    "\n",
    "    # count rest of population not affected by virus (population - confirmed)\n",
    "    # as confirmed = currently sick + deaths + recovered\n",
    "    all_data['brak'] = 0\n",
    "    all_data['aktywne'] = 0\n",
    "    for i in range(len(all_data)):\n",
    "        all_data.loc[i,'brak'] = population - all_data.loc[i,'potwierdzone']\n",
    "        all_data.loc[i,'aktywne'] = all_data.loc[i,'potwierdzone'] - all_data.loc[i,'śmiertelne'] - all_data.loc[i,'wyzdrowienia']\n",
    "    \n",
    "    # Draw chart\n",
    "    fig = px.bar(\n",
    "            all_data.loc[all_data['index'] == data], \n",
    "            y='index',\n",
    "            x=['aktywne', 'śmiertelne','wyzdrowienia','brak'], \n",
    "            orientation='h',\n",
    "            height=400,\n",
    "            title=\"Całkiwita liczba przypadków covid-19 na przekroju populacji kraju w \"+country, \n",
    "            labels={\n",
    "                 \"index\": \"Dzień\",\n",
    "                 \"value\": \"Całkowita liczba przypadków\",\n",
    "                 \"variable\": \"Rodzaj przypadku\"\n",
    "            },\n",
    "            color_discrete_sequence=['#636efa', '#ef553b', '#00cc96', '#fafafa'])\n",
    "    fig.show()"
   ]
  },
  {
   "cell_type": "markdown",
   "metadata": {},
   "source": [
    "Dla Polski możemy zaobserwować, że na tle całej populacji liczba zachorowań na dzień sporządzenia raportu liczba chorych wynosi ok 230 tysięcy, a osób które wyzdrowiały ponad 1,01 miliona. Do tej pory liczba zgonów, gdzie przyczyną był covid-19 wynosi ok 30 tysięcy."
   ]
  },
  {
   "cell_type": "markdown",
   "metadata": {},
   "source": [
    "### Liczba przypadków w danym okresie czasu w wybranym kraju\n",
    "\n",
    "Wygenerowany wykres pudełkowy przedstawia podstawowe informacje o cechach statystycznych dotyczących przypadków zachorowań na covid-19 na podstawie wybranego fragmentu czasu oraz wybranego kraju."
   ]
  },
  {
   "cell_type": "code",
   "execution_count": 425,
   "metadata": {},
   "outputs": [
    {
     "data": {
      "application/vnd.jupyter.widget-view+json": {
       "model_id": "fa1a345583dc4f548a0019e01a22dc26",
       "version_major": 2,
       "version_minor": 0
      },
      "text/plain": [
       "interactive(children=(Dropdown(description='Kraj:', index=135, options=('Afganistan', 'Albania', 'Algieria', '…"
      ]
     },
     "metadata": {},
     "output_type": "display_data"
    }
   ],
   "source": [
    "@interact\n",
    "def show_box_country_dates(\n",
    "    country=widgets.Dropdown(\n",
    "        options=sorted(df_countries['Country_Region'].unique()), \n",
    "        value=_(\"Poland\"),\n",
    "        description='Kraj:'\n",
    "    ),\n",
    "    typ=widgets.Dropdown(\n",
    "        options=['potwierdzone', 'śmiertelne', 'wyzdrowienia'], \n",
    "        value='potwierdzone',\n",
    "        description='Rodzaj przypadku:'\n",
    "    ),\n",
    "    date_from=widgets.DatePicker(\n",
    "        disabled=False,\n",
    "        description='Data od:',\n",
    "        value=datetime.date(2020, 9, 1),\n",
    "    ),\n",
    "    date_to=widgets.DatePicker(\n",
    "        disabled=False,\n",
    "        description='Data do:',\n",
    "        value=datetime.date(2020, 12, 31),\n",
    "    )):\n",
    "    \n",
    "    # Convert data from datePicker to correct format\n",
    "    date_from_s = date_from.strftime('%Y/%m/%d')\n",
    "    date_to_s = date_to.strftime('%Y/%m/%d')\n",
    "    \n",
    "    # Validate date\n",
    "    if (date_from_s not in df_confirmed.columns):\n",
    "        return '\"Data od\" spoza zakresu: '+df_confirmed.columns[2] + \" - \" + df_confirmed.columns[-1]\n",
    "    if (date_to_s not in df_confirmed.columns):\n",
    "        return '\"Data do\" spoza zakresu: '+df_confirmed.columns[2] + \" - \" + df_confirmed.columns[-1]\n",
    "    if (date_to < date_from):\n",
    "        return '\"Data od\" powinna być mniejsza niż \"Data do\".'\n",
    "\n",
    "    # Choose correct dataframe\n",
    "    if typ == 'potwierdzone':  \n",
    "        df = df_confirmed\n",
    "    elif typ == 'śmiertelne':\n",
    "        df = df_deaths\n",
    "    else:\n",
    "        df = df_recovered\n",
    "    \n",
    "    # Choose correct dataframe\n",
    "    if typ == 'potwierdzone':  \n",
    "        df = df_confirmed\n",
    "        color = ['#636efa']\n",
    "    elif typ == 'śmiertelne':\n",
    "        df = df_deaths\n",
    "        color = ['#ef553b']\n",
    "    else:\n",
    "        df = df_recovered\n",
    "        color = ['#00cc96']\n",
    "        \n",
    "    # Process dataframe\n",
    "    df = pd.pivot_table(df.loc[df['Country/Region'] == country], \n",
    "                          columns=['Country/Region'], \n",
    "                          aggfunc=sum, \n",
    "                          fill_value=0).rename(columns={country: 'total'})\n",
    "    df.reset_index(inplace=True)\n",
    "    \n",
    "    # Set start and end date\n",
    "    start = df.loc[df['index'] == date_from_s].index.tolist()[0]\n",
    "    end = df.loc[df['index'] == date_to_s].index.tolist()[0]\n",
    "    \n",
    "    # Count daily cases for selected type\n",
    "    last = None\n",
    "    df[typ] = 0\n",
    "    for i in range(len(df)):\n",
    "        if (i == 0):\n",
    "            continue\n",
    "        df.loc[i,typ] = df.loc[i,'total'] - df.loc[i-1,'total']\n",
    "    \n",
    "    # Select only date range\n",
    "    df = df.loc[start:end]\n",
    "    fig = go.Figure()\n",
    "    fig.add_trace(go.Box(y=df[typ], name=typ,\n",
    "                marker_color = color[0]))\n",
    "    fig.update_layout(title_text='Wykres pudełkowy\\ndzienna liczba zachorowań '+typ+' w kraju '+country\n",
    "                      +\"\\nw przedziale dni od \"+date_from_s+\" do \"+date_to_s)\n",
    "    fig.show()\n",
    "\n",
    "    "
   ]
  },
  {
   "cell_type": "markdown",
   "metadata": {},
   "source": [
    "W okresie od początku września do końca grudnia 2020 roku dzienna liczba zaraportowanych nowych przypadków zachorowań na covid-19 w Polsce wynosiła od 302 do 32 tysiące. Mediana zachorowań dla tego okresu wynosi około 9tysięcy, a przez 25% dni omaianego  okresu dzienna liczba nowych zachorowań wynosiła ponad 15tysięcy."
   ]
  },
  {
   "cell_type": "code",
   "execution_count": null,
   "metadata": {},
   "outputs": [],
   "source": []
  }
 ],
 "metadata": {
  "kernelspec": {
   "display_name": "Python 3",
   "language": "python",
   "name": "python3"
  },
  "language_info": {
   "codemirror_mode": {
    "name": "ipython",
    "version": 3
   },
   "file_extension": ".py",
   "mimetype": "text/x-python",
   "name": "python",
   "nbconvert_exporter": "python",
   "pygments_lexer": "ipython3",
   "version": "3.8.5"
  }
 },
 "nbformat": 4,
 "nbformat_minor": 4
}
